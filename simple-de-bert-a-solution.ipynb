{
 "cells": [
  {
   "cell_type": "code",
   "execution_count": 1,
   "id": "7a518b7f",
   "metadata": {
    "_cell_guid": "b1076dfc-b9ad-4769-8c92-a6c4dae69d19",
    "_uuid": "8f2839f25d086af736a60e9eeb907d3b93b6e0e5",
    "execution": {
     "iopub.execute_input": "2023-09-04T07:47:38.423461Z",
     "iopub.status.busy": "2023-09-04T07:47:38.422585Z",
     "iopub.status.idle": "2023-09-04T07:48:07.455554Z",
     "shell.execute_reply": "2023-09-04T07:48:07.454326Z"
    },
    "papermill": {
     "duration": 29.049607,
     "end_time": "2023-09-04T07:48:07.458449",
     "exception": false,
     "start_time": "2023-09-04T07:47:38.408842",
     "status": "completed"
    },
    "tags": []
   },
   "outputs": [
    {
     "name": "stderr",
     "output_type": "stream",
     "text": [
      "/opt/conda/lib/python3.10/site-packages/scipy/__init__.py:146: UserWarning: A NumPy version >=1.16.5 and <1.23.0 is required for this version of SciPy (detected version 1.23.5\n",
      "  warnings.warn(f\"A NumPy version >={np_minversion} and <{np_maxversion}\"\n"
     ]
    }
   ],
   "source": [
    "import numpy as np \n",
    "import pandas as pd\n",
    "import torch\n",
    "from transformers import AutoTokenizer, AutoModelForSequenceClassification, AdamW, get_linear_schedule_with_warmup\n",
    "from transformers import Trainer, TrainingArguments\n",
    "from sklearn.model_selection import train_test_split\n",
    "from torch.utils.data import DataLoader, Dataset"
   ]
  },
  {
   "cell_type": "code",
   "execution_count": 2,
   "id": "42c5c42c",
   "metadata": {
    "execution": {
     "iopub.execute_input": "2023-09-04T07:48:07.481876Z",
     "iopub.status.busy": "2023-09-04T07:48:07.480578Z",
     "iopub.status.idle": "2023-09-04T07:48:25.372607Z",
     "shell.execute_reply": "2023-09-04T07:48:25.371406Z"
    },
    "papermill": {
     "duration": 17.905674,
     "end_time": "2023-09-04T07:48:25.375325",
     "exception": false,
     "start_time": "2023-09-04T07:48:07.469651",
     "status": "completed"
    },
    "tags": []
   },
   "outputs": [
    {
     "name": "stdout",
     "output_type": "stream",
     "text": [
      "Processing /kaggle/input/autocorrect/autocorrect-2.6.1.tar\r\n",
      "  Preparing metadata (setup.py) ... \u001b[?25ldone\r\n",
      "\u001b[?25hBuilding wheels for collected packages: autocorrect\r\n",
      "  Building wheel for autocorrect (setup.py) ... \u001b[?25l-\b \bdone\r\n",
      "\u001b[?25h  Created wheel for autocorrect: filename=autocorrect-2.6.1-py3-none-any.whl size=622363 sha256=2ce5256545d69782d96ec5cf5a1a0491514c16cfbaa1735584e104cac048405b\r\n",
      "  Stored in directory: /root/.cache/pip/wheels/db/69/42/0fb0421d2fe70d195a04665edc760cfe5fd341d7bb8d8e0aaa\r\n",
      "Successfully built autocorrect\r\n",
      "Installing collected packages: autocorrect\r\n",
      "Successfully installed autocorrect-2.6.1\r\n"
     ]
    }
   ],
   "source": [
    "!pip install \"/kaggle/input/autocorrect/autocorrect-2.6.1.tar\""
   ]
  },
  {
   "cell_type": "markdown",
   "id": "76317174",
   "metadata": {
    "papermill": {
     "duration": 0.010064,
     "end_time": "2023-09-04T07:48:25.395979",
     "exception": false,
     "start_time": "2023-09-04T07:48:25.385915",
     "status": "completed"
    },
    "tags": []
   },
   "source": [
    "# Data loading and Data prep"
   ]
  },
  {
   "cell_type": "code",
   "execution_count": 3,
   "id": "48b5982f",
   "metadata": {
    "execution": {
     "iopub.execute_input": "2023-09-04T07:48:25.419294Z",
     "iopub.status.busy": "2023-09-04T07:48:25.418102Z",
     "iopub.status.idle": "2023-09-04T07:48:25.597040Z",
     "shell.execute_reply": "2023-09-04T07:48:25.595917Z"
    },
    "papermill": {
     "duration": 0.193654,
     "end_time": "2023-09-04T07:48:25.599753",
     "exception": false,
     "start_time": "2023-09-04T07:48:25.406099",
     "status": "completed"
    },
    "tags": []
   },
   "outputs": [],
   "source": [
    "prompts = pd.read_csv('/kaggle/input/commonlit-evaluate-student-summaries/prompts_train.csv')\n",
    "summaries = pd.read_csv('/kaggle/input/commonlit-evaluate-student-summaries/summaries_train.csv')"
   ]
  },
  {
   "cell_type": "code",
   "execution_count": 4,
   "id": "226c75e0",
   "metadata": {
    "execution": {
     "iopub.execute_input": "2023-09-04T07:48:25.622933Z",
     "iopub.status.busy": "2023-09-04T07:48:25.622033Z",
     "iopub.status.idle": "2023-09-04T07:48:25.641459Z",
     "shell.execute_reply": "2023-09-04T07:48:25.640415Z"
    },
    "papermill": {
     "duration": 0.034103,
     "end_time": "2023-09-04T07:48:25.644341",
     "exception": false,
     "start_time": "2023-09-04T07:48:25.610238",
     "status": "completed"
    },
    "tags": []
   },
   "outputs": [],
   "source": [
    "prompts_test = pd.read_csv('/kaggle/input/commonlit-evaluate-student-summaries/prompts_test.csv')\n",
    "summaries_test = pd.read_csv('/kaggle/input/commonlit-evaluate-student-summaries/summaries_test.csv')"
   ]
  },
  {
   "cell_type": "code",
   "execution_count": 5,
   "id": "bf24f8c1",
   "metadata": {
    "execution": {
     "iopub.execute_input": "2023-09-04T07:48:25.667504Z",
     "iopub.status.busy": "2023-09-04T07:48:25.666802Z",
     "iopub.status.idle": "2023-09-04T07:48:25.695387Z",
     "shell.execute_reply": "2023-09-04T07:48:25.694072Z"
    },
    "papermill": {
     "duration": 0.04368,
     "end_time": "2023-09-04T07:48:25.698673",
     "exception": false,
     "start_time": "2023-09-04T07:48:25.654993",
     "status": "completed"
    },
    "tags": []
   },
   "outputs": [
    {
     "data": {
      "text/html": [
       "<div>\n",
       "<style scoped>\n",
       "    .dataframe tbody tr th:only-of-type {\n",
       "        vertical-align: middle;\n",
       "    }\n",
       "\n",
       "    .dataframe tbody tr th {\n",
       "        vertical-align: top;\n",
       "    }\n",
       "\n",
       "    .dataframe thead th {\n",
       "        text-align: right;\n",
       "    }\n",
       "</style>\n",
       "<table border=\"1\" class=\"dataframe\">\n",
       "  <thead>\n",
       "    <tr style=\"text-align: right;\">\n",
       "      <th></th>\n",
       "      <th>prompt_id</th>\n",
       "      <th>prompt_question</th>\n",
       "      <th>prompt_title</th>\n",
       "      <th>prompt_text</th>\n",
       "    </tr>\n",
       "  </thead>\n",
       "  <tbody>\n",
       "    <tr>\n",
       "      <th>0</th>\n",
       "      <td>39c16e</td>\n",
       "      <td>Summarize at least 3 elements of an ideal trag...</td>\n",
       "      <td>On Tragedy</td>\n",
       "      <td>Chapter 13 \\r\\nAs the sequel to what has alrea...</td>\n",
       "    </tr>\n",
       "    <tr>\n",
       "      <th>1</th>\n",
       "      <td>3b9047</td>\n",
       "      <td>In complete sentences, summarize the structure...</td>\n",
       "      <td>Egyptian Social Structure</td>\n",
       "      <td>Egyptian society was structured like a pyramid...</td>\n",
       "    </tr>\n",
       "  </tbody>\n",
       "</table>\n",
       "</div>"
      ],
      "text/plain": [
       "  prompt_id                                    prompt_question  \\\n",
       "0    39c16e  Summarize at least 3 elements of an ideal trag...   \n",
       "1    3b9047  In complete sentences, summarize the structure...   \n",
       "\n",
       "                prompt_title  \\\n",
       "0                 On Tragedy   \n",
       "1  Egyptian Social Structure   \n",
       "\n",
       "                                         prompt_text  \n",
       "0  Chapter 13 \\r\\nAs the sequel to what has alrea...  \n",
       "1  Egyptian society was structured like a pyramid...  "
      ]
     },
     "execution_count": 5,
     "metadata": {},
     "output_type": "execute_result"
    }
   ],
   "source": [
    "prompts.head(2)"
   ]
  },
  {
   "cell_type": "code",
   "execution_count": 6,
   "id": "2d41d730",
   "metadata": {
    "execution": {
     "iopub.execute_input": "2023-09-04T07:48:25.723554Z",
     "iopub.status.busy": "2023-09-04T07:48:25.722406Z",
     "iopub.status.idle": "2023-09-04T07:48:25.736505Z",
     "shell.execute_reply": "2023-09-04T07:48:25.735345Z"
    },
    "papermill": {
     "duration": 0.028824,
     "end_time": "2023-09-04T07:48:25.739286",
     "exception": false,
     "start_time": "2023-09-04T07:48:25.710462",
     "status": "completed"
    },
    "tags": []
   },
   "outputs": [
    {
     "data": {
      "text/html": [
       "<div>\n",
       "<style scoped>\n",
       "    .dataframe tbody tr th:only-of-type {\n",
       "        vertical-align: middle;\n",
       "    }\n",
       "\n",
       "    .dataframe tbody tr th {\n",
       "        vertical-align: top;\n",
       "    }\n",
       "\n",
       "    .dataframe thead th {\n",
       "        text-align: right;\n",
       "    }\n",
       "</style>\n",
       "<table border=\"1\" class=\"dataframe\">\n",
       "  <thead>\n",
       "    <tr style=\"text-align: right;\">\n",
       "      <th></th>\n",
       "      <th>student_id</th>\n",
       "      <th>prompt_id</th>\n",
       "      <th>text</th>\n",
       "      <th>content</th>\n",
       "      <th>wording</th>\n",
       "    </tr>\n",
       "  </thead>\n",
       "  <tbody>\n",
       "    <tr>\n",
       "      <th>0</th>\n",
       "      <td>000e8c3c7ddb</td>\n",
       "      <td>814d6b</td>\n",
       "      <td>The third wave was an experimentto see how peo...</td>\n",
       "      <td>0.205683</td>\n",
       "      <td>0.380538</td>\n",
       "    </tr>\n",
       "    <tr>\n",
       "      <th>1</th>\n",
       "      <td>0020ae56ffbf</td>\n",
       "      <td>ebad26</td>\n",
       "      <td>They would rub it up with soda to make the sme...</td>\n",
       "      <td>-0.548304</td>\n",
       "      <td>0.506755</td>\n",
       "    </tr>\n",
       "  </tbody>\n",
       "</table>\n",
       "</div>"
      ],
      "text/plain": [
       "     student_id prompt_id                                               text  \\\n",
       "0  000e8c3c7ddb    814d6b  The third wave was an experimentto see how peo...   \n",
       "1  0020ae56ffbf    ebad26  They would rub it up with soda to make the sme...   \n",
       "\n",
       "    content   wording  \n",
       "0  0.205683  0.380538  \n",
       "1 -0.548304  0.506755  "
      ]
     },
     "execution_count": 6,
     "metadata": {},
     "output_type": "execute_result"
    }
   ],
   "source": [
    "summaries.head(2)"
   ]
  },
  {
   "cell_type": "code",
   "execution_count": 7,
   "id": "abd087c5",
   "metadata": {
    "execution": {
     "iopub.execute_input": "2023-09-04T07:48:25.765455Z",
     "iopub.status.busy": "2023-09-04T07:48:25.765055Z",
     "iopub.status.idle": "2023-09-04T07:48:25.806931Z",
     "shell.execute_reply": "2023-09-04T07:48:25.805629Z"
    },
    "papermill": {
     "duration": 0.058458,
     "end_time": "2023-09-04T07:48:25.810048",
     "exception": false,
     "start_time": "2023-09-04T07:48:25.751590",
     "status": "completed"
    },
    "tags": []
   },
   "outputs": [],
   "source": [
    "df = prompts.merge(summaries, on = ['prompt_id'],how ='left')\n",
    "test = prompts_test.merge(summaries_test, on = ['prompt_id'],how ='left')"
   ]
  },
  {
   "cell_type": "code",
   "execution_count": 8,
   "id": "3682c0f8",
   "metadata": {
    "execution": {
     "iopub.execute_input": "2023-09-04T07:48:25.834891Z",
     "iopub.status.busy": "2023-09-04T07:48:25.834500Z",
     "iopub.status.idle": "2023-09-04T07:48:49.820364Z",
     "shell.execute_reply": "2023-09-04T07:48:49.819237Z"
    },
    "papermill": {
     "duration": 24.000839,
     "end_time": "2023-09-04T07:48:49.823245",
     "exception": false,
     "start_time": "2023-09-04T07:48:25.822406",
     "status": "completed"
    },
    "tags": []
   },
   "outputs": [],
   "source": [
    "from autocorrect import Speller\n",
    "\n",
    "spell = Speller(lang='en')\n",
    "\n",
    "df['text_correct'] = df['text'].apply(lambda x: \"\".join([spell(i) for i in x]))\n",
    "df['question'] = df[\"prompt_title\"] + \"\\n\" + df[\"prompt_question\"] + \"\\n\" + df[\"prompt_text\"]"
   ]
  },
  {
   "cell_type": "code",
   "execution_count": 9,
   "id": "6422e8f6",
   "metadata": {
    "execution": {
     "iopub.execute_input": "2023-09-04T07:48:49.846881Z",
     "iopub.status.busy": "2023-09-04T07:48:49.846535Z",
     "iopub.status.idle": "2023-09-04T07:48:49.855339Z",
     "shell.execute_reply": "2023-09-04T07:48:49.854142Z"
    },
    "papermill": {
     "duration": 0.023493,
     "end_time": "2023-09-04T07:48:49.858074",
     "exception": false,
     "start_time": "2023-09-04T07:48:49.834581",
     "status": "completed"
    },
    "tags": []
   },
   "outputs": [],
   "source": [
    "test['text_correct'] = test['text'].apply(lambda x: \"\".join([spell(i) for i in x]))\n",
    "test['question'] = test[\"prompt_title\"] + \"\\n\" + test[\"prompt_question\"] + \"\\n\" + test[\"prompt_text\"]"
   ]
  },
  {
   "cell_type": "code",
   "execution_count": 10,
   "id": "e73be048",
   "metadata": {
    "execution": {
     "iopub.execute_input": "2023-09-04T07:48:49.880732Z",
     "iopub.status.busy": "2023-09-04T07:48:49.880412Z",
     "iopub.status.idle": "2023-09-04T07:48:58.145601Z",
     "shell.execute_reply": "2023-09-04T07:48:58.144644Z"
    },
    "papermill": {
     "duration": 8.278877,
     "end_time": "2023-09-04T07:48:58.147942",
     "exception": false,
     "start_time": "2023-09-04T07:48:49.869065",
     "status": "completed"
    },
    "tags": []
   },
   "outputs": [
    {
     "name": "stderr",
     "output_type": "stream",
     "text": [
      "Special tokens have been added in the vocabulary, make sure the associated word embeddings are fine-tuned or trained.\n",
      "/opt/conda/lib/python3.10/site-packages/transformers/convert_slow_tokenizer.py:470: UserWarning: The sentencepiece tokenizer that you are converting to a fast tokenizer uses the byte fallback option which is not implemented in the fast tokenizers. In practice this means that the fast version of the tokenizer can produce unknown tokens whereas the sentencepiece version would have converted these unknown tokens into a sequence of byte tokens matching the original piece of text.\n",
      "  warnings.warn(\n",
      "Special tokens have been added in the vocabulary, make sure the associated word embeddings are fine-tuned or trained.\n",
      "Some weights of DebertaV2ForSequenceClassification were not initialized from the model checkpoint at /kaggle/input/deberta-v3-base/deberta-v3-base and are newly initialized: ['classifier.bias', 'pooler.dense.weight', 'classifier.weight', 'pooler.dense.bias']\n",
      "You should probably TRAIN this model on a down-stream task to be able to use it for predictions and inference.\n"
     ]
    }
   ],
   "source": [
    "model_name = \"/kaggle/input/deberta-v3-base/deberta-v3-base\"\n",
    "\n",
    "tokenizer = AutoTokenizer.from_pretrained(model_name)\n",
    "\n",
    "model = AutoModelForSequenceClassification.from_pretrained(model_name, num_labels=2, problem_type=\"regression\")\n"
   ]
  },
  {
   "cell_type": "code",
   "execution_count": 11,
   "id": "6423e813",
   "metadata": {
    "execution": {
     "iopub.execute_input": "2023-09-04T07:48:58.173441Z",
     "iopub.status.busy": "2023-09-04T07:48:58.171760Z",
     "iopub.status.idle": "2023-09-04T07:48:58.190507Z",
     "shell.execute_reply": "2023-09-04T07:48:58.189275Z"
    },
    "papermill": {
     "duration": 0.033104,
     "end_time": "2023-09-04T07:48:58.193143",
     "exception": false,
     "start_time": "2023-09-04T07:48:58.160039",
     "status": "completed"
    },
    "tags": []
   },
   "outputs": [
    {
     "data": {
      "text/html": [
       "<div>\n",
       "<style scoped>\n",
       "    .dataframe tbody tr th:only-of-type {\n",
       "        vertical-align: middle;\n",
       "    }\n",
       "\n",
       "    .dataframe tbody tr th {\n",
       "        vertical-align: top;\n",
       "    }\n",
       "\n",
       "    .dataframe thead th {\n",
       "        text-align: right;\n",
       "    }\n",
       "</style>\n",
       "<table border=\"1\" class=\"dataframe\">\n",
       "  <thead>\n",
       "    <tr style=\"text-align: right;\">\n",
       "      <th></th>\n",
       "      <th>prompt_id</th>\n",
       "      <th>prompt_question</th>\n",
       "      <th>prompt_title</th>\n",
       "      <th>prompt_text</th>\n",
       "      <th>student_id</th>\n",
       "      <th>text</th>\n",
       "      <th>content</th>\n",
       "      <th>wording</th>\n",
       "      <th>text_correct</th>\n",
       "      <th>question</th>\n",
       "    </tr>\n",
       "  </thead>\n",
       "  <tbody>\n",
       "    <tr>\n",
       "      <th>0</th>\n",
       "      <td>39c16e</td>\n",
       "      <td>Summarize at least 3 elements of an ideal trag...</td>\n",
       "      <td>On Tragedy</td>\n",
       "      <td>Chapter 13 \\r\\nAs the sequel to what has alrea...</td>\n",
       "      <td>00791789cc1f</td>\n",
       "      <td>1 element of an ideal tragedy is that it shoul...</td>\n",
       "      <td>-0.210614</td>\n",
       "      <td>-0.471415</td>\n",
       "      <td>1 element of an ideal tragedy is that it shoul...</td>\n",
       "      <td>On Tragedy\\nSummarize at least 3 elements of a...</td>\n",
       "    </tr>\n",
       "    <tr>\n",
       "      <th>1</th>\n",
       "      <td>39c16e</td>\n",
       "      <td>Summarize at least 3 elements of an ideal trag...</td>\n",
       "      <td>On Tragedy</td>\n",
       "      <td>Chapter 13 \\r\\nAs the sequel to what has alrea...</td>\n",
       "      <td>0086ef22de8f</td>\n",
       "      <td>The three elements of an ideal tragedy are:  H...</td>\n",
       "      <td>-0.970237</td>\n",
       "      <td>-0.417058</td>\n",
       "      <td>The three elements of an ideal tragedy are:  H...</td>\n",
       "      <td>On Tragedy\\nSummarize at least 3 elements of a...</td>\n",
       "    </tr>\n",
       "    <tr>\n",
       "      <th>2</th>\n",
       "      <td>39c16e</td>\n",
       "      <td>Summarize at least 3 elements of an ideal trag...</td>\n",
       "      <td>On Tragedy</td>\n",
       "      <td>Chapter 13 \\r\\nAs the sequel to what has alrea...</td>\n",
       "      <td>0094589c7a22</td>\n",
       "      <td>Aristotle states that an ideal tragedy should ...</td>\n",
       "      <td>-0.387791</td>\n",
       "      <td>-0.584181</td>\n",
       "      <td>Aristotle states that an ideal tragedy should ...</td>\n",
       "      <td>On Tragedy\\nSummarize at least 3 elements of a...</td>\n",
       "    </tr>\n",
       "    <tr>\n",
       "      <th>3</th>\n",
       "      <td>39c16e</td>\n",
       "      <td>Summarize at least 3 elements of an ideal trag...</td>\n",
       "      <td>On Tragedy</td>\n",
       "      <td>Chapter 13 \\r\\nAs the sequel to what has alrea...</td>\n",
       "      <td>00cd5736026a</td>\n",
       "      <td>One element of an Ideal tragedy is having a co...</td>\n",
       "      <td>0.088882</td>\n",
       "      <td>-0.594710</td>\n",
       "      <td>One element of an Ideal tragedy is having a co...</td>\n",
       "      <td>On Tragedy\\nSummarize at least 3 elements of a...</td>\n",
       "    </tr>\n",
       "    <tr>\n",
       "      <th>4</th>\n",
       "      <td>39c16e</td>\n",
       "      <td>Summarize at least 3 elements of an ideal trag...</td>\n",
       "      <td>On Tragedy</td>\n",
       "      <td>Chapter 13 \\r\\nAs the sequel to what has alrea...</td>\n",
       "      <td>00d98b8ff756</td>\n",
       "      <td>The 3 ideal of tragedy is how complex you need...</td>\n",
       "      <td>-0.687288</td>\n",
       "      <td>-0.460886</td>\n",
       "      <td>The 3 ideal of tragedy is how complex you need...</td>\n",
       "      <td>On Tragedy\\nSummarize at least 3 elements of a...</td>\n",
       "    </tr>\n",
       "  </tbody>\n",
       "</table>\n",
       "</div>"
      ],
      "text/plain": [
       "  prompt_id                                    prompt_question prompt_title  \\\n",
       "0    39c16e  Summarize at least 3 elements of an ideal trag...   On Tragedy   \n",
       "1    39c16e  Summarize at least 3 elements of an ideal trag...   On Tragedy   \n",
       "2    39c16e  Summarize at least 3 elements of an ideal trag...   On Tragedy   \n",
       "3    39c16e  Summarize at least 3 elements of an ideal trag...   On Tragedy   \n",
       "4    39c16e  Summarize at least 3 elements of an ideal trag...   On Tragedy   \n",
       "\n",
       "                                         prompt_text    student_id  \\\n",
       "0  Chapter 13 \\r\\nAs the sequel to what has alrea...  00791789cc1f   \n",
       "1  Chapter 13 \\r\\nAs the sequel to what has alrea...  0086ef22de8f   \n",
       "2  Chapter 13 \\r\\nAs the sequel to what has alrea...  0094589c7a22   \n",
       "3  Chapter 13 \\r\\nAs the sequel to what has alrea...  00cd5736026a   \n",
       "4  Chapter 13 \\r\\nAs the sequel to what has alrea...  00d98b8ff756   \n",
       "\n",
       "                                                text   content   wording  \\\n",
       "0  1 element of an ideal tragedy is that it shoul... -0.210614 -0.471415   \n",
       "1  The three elements of an ideal tragedy are:  H... -0.970237 -0.417058   \n",
       "2  Aristotle states that an ideal tragedy should ... -0.387791 -0.584181   \n",
       "3  One element of an Ideal tragedy is having a co...  0.088882 -0.594710   \n",
       "4  The 3 ideal of tragedy is how complex you need... -0.687288 -0.460886   \n",
       "\n",
       "                                        text_correct  \\\n",
       "0  1 element of an ideal tragedy is that it shoul...   \n",
       "1  The three elements of an ideal tragedy are:  H...   \n",
       "2  Aristotle states that an ideal tragedy should ...   \n",
       "3  One element of an Ideal tragedy is having a co...   \n",
       "4  The 3 ideal of tragedy is how complex you need...   \n",
       "\n",
       "                                            question  \n",
       "0  On Tragedy\\nSummarize at least 3 elements of a...  \n",
       "1  On Tragedy\\nSummarize at least 3 elements of a...  \n",
       "2  On Tragedy\\nSummarize at least 3 elements of a...  \n",
       "3  On Tragedy\\nSummarize at least 3 elements of a...  \n",
       "4  On Tragedy\\nSummarize at least 3 elements of a...  "
      ]
     },
     "execution_count": 11,
     "metadata": {},
     "output_type": "execute_result"
    }
   ],
   "source": [
    "df.head()"
   ]
  },
  {
   "cell_type": "markdown",
   "id": "552fa69f",
   "metadata": {
    "papermill": {
     "duration": 0.010988,
     "end_time": "2023-09-04T07:48:58.216628",
     "exception": false,
     "start_time": "2023-09-04T07:48:58.205640",
     "status": "completed"
    },
    "tags": []
   },
   "source": [
    "# Data prep for training"
   ]
  },
  {
   "cell_type": "code",
   "execution_count": 12,
   "id": "d35938b6",
   "metadata": {
    "execution": {
     "iopub.execute_input": "2023-09-04T07:48:58.240193Z",
     "iopub.status.busy": "2023-09-04T07:48:58.239796Z",
     "iopub.status.idle": "2023-09-04T07:48:58.249957Z",
     "shell.execute_reply": "2023-09-04T07:48:58.248838Z"
    },
    "papermill": {
     "duration": 0.024338,
     "end_time": "2023-09-04T07:48:58.252359",
     "exception": false,
     "start_time": "2023-09-04T07:48:58.228021",
     "status": "completed"
    },
    "tags": []
   },
   "outputs": [],
   "source": [
    "class CustomDataset(Dataset):\n",
    "    def __init__(self, df, has_labels=True):\n",
    "        self.df = df\n",
    "        self.prompt_titles = df[\"question\"].values.tolist()\n",
    "        self.texts = df[\"text_correct\"].values.tolist()\n",
    "        self.encoded_examples = tokenizer(\n",
    "            text=self.prompt_titles,\n",
    "            text_pair=self.texts,\n",
    "            truncation=True,\n",
    "            padding=True,\n",
    "            max_length=512,\n",
    "            return_tensors=\"pt\"\n",
    "        )\n",
    "\n",
    "        \n",
    "        self.has_labels = has_labels\n",
    "        \n",
    "        if self.has_labels:\n",
    "            self.labels_list = df[[\"content\", \"wording\"]].values.tolist()\n",
    "\n",
    "    def __len__(self):\n",
    "        return len(self.df)\n",
    "\n",
    "    def __getitem__(self, idx):\n",
    "        item = {\n",
    "            \"input_ids\": self.encoded_examples[\"input_ids\"][idx],\n",
    "            \"attention_mask\": self.encoded_examples[\"attention_mask\"][idx],\n",
    "            \"token_type_ids\": self.encoded_examples[\"token_type_ids\"][idx]\n",
    "        }\n",
    "        \n",
    "        if self.has_labels:\n",
    "            item[\"labels\"] = torch.tensor(self.labels_list[idx])\n",
    "        \n",
    "        return item"
   ]
  },
  {
   "cell_type": "code",
   "execution_count": 13,
   "id": "88c33a7d",
   "metadata": {
    "execution": {
     "iopub.execute_input": "2023-09-04T07:48:58.275656Z",
     "iopub.status.busy": "2023-09-04T07:48:58.275297Z",
     "iopub.status.idle": "2023-09-04T07:49:20.227795Z",
     "shell.execute_reply": "2023-09-04T07:49:20.226644Z"
    },
    "papermill": {
     "duration": 21.967648,
     "end_time": "2023-09-04T07:49:20.230955",
     "exception": false,
     "start_time": "2023-09-04T07:48:58.263307",
     "status": "completed"
    },
    "tags": []
   },
   "outputs": [],
   "source": [
    "from sklearn.model_selection import train_test_split\n",
    "\n",
    "df_train, df_valid = train_test_split(df, test_size=0.2, random_state=2023)\n",
    "\n",
    "train_dataset = CustomDataset(df_train)\n",
    "valid_dataset = CustomDataset(df_valid)\n",
    "test_dataset  = CustomDataset(test, has_labels=False)"
   ]
  },
  {
   "cell_type": "code",
   "execution_count": 14,
   "id": "69cbe15f",
   "metadata": {
    "execution": {
     "iopub.execute_input": "2023-09-04T07:49:20.255104Z",
     "iopub.status.busy": "2023-09-04T07:49:20.254788Z",
     "iopub.status.idle": "2023-09-04T07:49:20.259755Z",
     "shell.execute_reply": "2023-09-04T07:49:20.258688Z"
    },
    "papermill": {
     "duration": 0.018881,
     "end_time": "2023-09-04T07:49:20.262219",
     "exception": false,
     "start_time": "2023-09-04T07:49:20.243338",
     "status": "completed"
    },
    "tags": []
   },
   "outputs": [],
   "source": [
    "from transformers import DataCollatorWithPadding\n",
    "\n",
    "data_collator = DataCollatorWithPadding(tokenizer=tokenizer)"
   ]
  },
  {
   "cell_type": "code",
   "execution_count": 15,
   "id": "4eed5d64",
   "metadata": {
    "execution": {
     "iopub.execute_input": "2023-09-04T07:49:20.284738Z",
     "iopub.status.busy": "2023-09-04T07:49:20.283979Z",
     "iopub.status.idle": "2023-09-04T07:49:20.383917Z",
     "shell.execute_reply": "2023-09-04T07:49:20.382963Z"
    },
    "papermill": {
     "duration": 0.113375,
     "end_time": "2023-09-04T07:49:20.385865",
     "exception": false,
     "start_time": "2023-09-04T07:49:20.272490",
     "status": "completed"
    },
    "tags": []
   },
   "outputs": [
    {
     "name": "stdout",
     "output_type": "stream",
     "text": [
      "cuda\n"
     ]
    }
   ],
   "source": [
    "device = torch.device(\"cuda\" if torch.cuda.is_available() else \"cpu\")\n",
    "print(device)"
   ]
  },
  {
   "cell_type": "markdown",
   "id": "89cdbb14",
   "metadata": {
    "papermill": {
     "duration": 0.010044,
     "end_time": "2023-09-04T07:49:20.406324",
     "exception": false,
     "start_time": "2023-09-04T07:49:20.396280",
     "status": "completed"
    },
    "tags": []
   },
   "source": [
    "# Training"
   ]
  },
  {
   "cell_type": "code",
   "execution_count": 16,
   "id": "f5e68da0",
   "metadata": {
    "execution": {
     "iopub.execute_input": "2023-09-04T07:49:20.429696Z",
     "iopub.status.busy": "2023-09-04T07:49:20.428813Z",
     "iopub.status.idle": "2023-09-04T07:49:20.435590Z",
     "shell.execute_reply": "2023-09-04T07:49:20.434653Z"
    },
    "papermill": {
     "duration": 0.020944,
     "end_time": "2023-09-04T07:49:20.437626",
     "exception": false,
     "start_time": "2023-09-04T07:49:20.416682",
     "status": "completed"
    },
    "tags": []
   },
   "outputs": [],
   "source": [
    "def compute_mcrmse(eval_pred):\n",
    "\n",
    "    predictions, labels = eval_pred\n",
    "    squared_errors = np.square(predictions - labels)\n",
    "    mean_squared_errors = np.mean(squared_errors, axis=0)\n",
    "    \n",
    "    rmse = np.sqrt(mean_squared_errors)\n",
    "    \n",
    "    mcrmse_value = np.mean(rmse)\n",
    "    \n",
    "    content_rmse = rmse[0]\n",
    "    wording_rmse = rmse[1]\n",
    "    \n",
    "    return {\n",
    "        \"mcrmse\": mcrmse_value,\n",
    "        \"content_rmse\": content_rmse,\n",
    "        \"wording_rmse\": wording_rmse\n",
    "    }"
   ]
  },
  {
   "cell_type": "code",
   "execution_count": 17,
   "id": "c755b0bf",
   "metadata": {
    "execution": {
     "iopub.execute_input": "2023-09-04T07:49:20.460229Z",
     "iopub.status.busy": "2023-09-04T07:49:20.459304Z",
     "iopub.status.idle": "2023-09-04T07:49:20.471486Z",
     "shell.execute_reply": "2023-09-04T07:49:20.470570Z"
    },
    "papermill": {
     "duration": 0.025872,
     "end_time": "2023-09-04T07:49:20.473747",
     "exception": false,
     "start_time": "2023-09-04T07:49:20.447875",
     "status": "completed"
    },
    "tags": []
   },
   "outputs": [],
   "source": [
    "from transformers import TrainingArguments\n",
    "\n",
    "training_args = TrainingArguments(\n",
    "    output_dir=\"output\",             \n",
    "    per_device_train_batch_size=8,   \n",
    "    per_device_eval_batch_size=4,    \n",
    "    learning_rate=1e-5,            \n",
    "    lr_scheduler_type=\"linear\",      \n",
    "    warmup_ratio=0.01,               \n",
    "    num_train_epochs=3,              \n",
    "    save_strategy=\"epoch\",           \n",
    "    logging_strategy=\"epoch\",        \n",
    "    evaluation_strategy=\"epoch\",     \n",
    "    load_best_model_at_end=True,     \n",
    "    metric_for_best_model=\"mcrmse\",           \n",
    "    fp16=False,                      \n",
    "    report_to='none',\n",
    "    save_total_limit=1\n",
    ")"
   ]
  },
  {
   "cell_type": "code",
   "execution_count": 18,
   "id": "986f879a",
   "metadata": {
    "execution": {
     "iopub.execute_input": "2023-09-04T07:49:20.498387Z",
     "iopub.status.busy": "2023-09-04T07:49:20.497811Z",
     "iopub.status.idle": "2023-09-04T08:16:28.849913Z",
     "shell.execute_reply": "2023-09-04T08:16:28.848791Z"
    },
    "papermill": {
     "duration": 1628.368672,
     "end_time": "2023-09-04T08:16:28.852733",
     "exception": false,
     "start_time": "2023-09-04T07:49:20.484061",
     "status": "completed"
    },
    "tags": []
   },
   "outputs": [
    {
     "name": "stderr",
     "output_type": "stream",
     "text": [
      "You're using a DebertaV2TokenizerFast tokenizer. Please note that with a fast tokenizer, using the `__call__` method is faster than using a method to encode the text followed by a call to the `pad` method to get a padded encoding.\n",
      "/opt/conda/lib/python3.10/site-packages/torch/nn/parallel/_functions.py:68: UserWarning: Was asked to gather along dimension 0, but all input tensors were scalars; will instead unsqueeze and return a vector.\n",
      "  warnings.warn('Was asked to gather along dimension 0, but all '\n"
     ]
    },
    {
     "data": {
      "text/html": [
       "\n",
       "    <div>\n",
       "      \n",
       "      <progress value='1077' max='1077' style='width:300px; height:20px; vertical-align: middle;'></progress>\n",
       "      [1077/1077 26:49, Epoch 3/3]\n",
       "    </div>\n",
       "    <table border=\"1\" class=\"dataframe\">\n",
       "  <thead>\n",
       " <tr style=\"text-align: left;\">\n",
       "      <th>Epoch</th>\n",
       "      <th>Training Loss</th>\n",
       "      <th>Validation Loss</th>\n",
       "      <th>Mcrmse</th>\n",
       "      <th>Content Rmse</th>\n",
       "      <th>Wording Rmse</th>\n",
       "    </tr>\n",
       "  </thead>\n",
       "  <tbody>\n",
       "    <tr>\n",
       "      <td>1</td>\n",
       "      <td>0.523300</td>\n",
       "      <td>0.324159</td>\n",
       "      <td>0.564862</td>\n",
       "      <td>0.493520</td>\n",
       "      <td>0.636205</td>\n",
       "    </tr>\n",
       "    <tr>\n",
       "      <td>2</td>\n",
       "      <td>0.278900</td>\n",
       "      <td>0.307704</td>\n",
       "      <td>0.550864</td>\n",
       "      <td>0.485651</td>\n",
       "      <td>0.616078</td>\n",
       "    </tr>\n",
       "    <tr>\n",
       "      <td>3</td>\n",
       "      <td>0.237000</td>\n",
       "      <td>0.283475</td>\n",
       "      <td>0.527465</td>\n",
       "      <td>0.454973</td>\n",
       "      <td>0.599957</td>\n",
       "    </tr>\n",
       "  </tbody>\n",
       "</table><p>"
      ],
      "text/plain": [
       "<IPython.core.display.HTML object>"
      ]
     },
     "metadata": {},
     "output_type": "display_data"
    },
    {
     "name": "stderr",
     "output_type": "stream",
     "text": [
      "/opt/conda/lib/python3.10/site-packages/torch/nn/parallel/_functions.py:68: UserWarning: Was asked to gather along dimension 0, but all input tensors were scalars; will instead unsqueeze and return a vector.\n",
      "  warnings.warn('Was asked to gather along dimension 0, but all '\n",
      "/opt/conda/lib/python3.10/site-packages/torch/nn/parallel/_functions.py:68: UserWarning: Was asked to gather along dimension 0, but all input tensors were scalars; will instead unsqueeze and return a vector.\n",
      "  warnings.warn('Was asked to gather along dimension 0, but all '\n"
     ]
    }
   ],
   "source": [
    "trainer = Trainer(\n",
    "    model=model,\n",
    "    train_dataset=train_dataset,\n",
    "    eval_dataset=valid_dataset,\n",
    "    data_collator=data_collator,\n",
    "    args=training_args,\n",
    "    compute_metrics=compute_mcrmse,\n",
    ")\n",
    "trainer.train()\n",
    "\n",
    "trainer.save_model(\"best_model\")"
   ]
  },
  {
   "cell_type": "markdown",
   "id": "7cf68dc9",
   "metadata": {
    "papermill": {
     "duration": 0.010839,
     "end_time": "2023-09-04T08:16:28.874817",
     "exception": false,
     "start_time": "2023-09-04T08:16:28.863978",
     "status": "completed"
    },
    "tags": []
   },
   "source": [
    "# Scoring"
   ]
  },
  {
   "cell_type": "code",
   "execution_count": 19,
   "id": "4c18bfca",
   "metadata": {
    "execution": {
     "iopub.execute_input": "2023-09-04T08:16:28.901244Z",
     "iopub.status.busy": "2023-09-04T08:16:28.900868Z",
     "iopub.status.idle": "2023-09-04T08:16:29.052138Z",
     "shell.execute_reply": "2023-09-04T08:16:29.051244Z"
    },
    "papermill": {
     "duration": 0.165906,
     "end_time": "2023-09-04T08:16:29.054290",
     "exception": false,
     "start_time": "2023-09-04T08:16:28.888384",
     "status": "completed"
    },
    "tags": []
   },
   "outputs": [
    {
     "data": {
      "text/html": [],
      "text/plain": [
       "<IPython.core.display.HTML object>"
      ]
     },
     "metadata": {},
     "output_type": "display_data"
    }
   ],
   "source": [
    "predictions = trainer.predict(test_dataset)\n",
    "content_list = predictions.predictions[:, 0].tolist()\n",
    "wording_list = predictions.predictions[:, 1].tolist()"
   ]
  },
  {
   "cell_type": "code",
   "execution_count": 20,
   "id": "8f8b10f8",
   "metadata": {
    "execution": {
     "iopub.execute_input": "2023-09-04T08:16:29.078388Z",
     "iopub.status.busy": "2023-09-04T08:16:29.077541Z",
     "iopub.status.idle": "2023-09-04T08:16:29.177574Z",
     "shell.execute_reply": "2023-09-04T08:16:29.176501Z"
    },
    "papermill": {
     "duration": 0.114054,
     "end_time": "2023-09-04T08:16:29.179829",
     "exception": false,
     "start_time": "2023-09-04T08:16:29.065775",
     "status": "completed"
    },
    "tags": []
   },
   "outputs": [
    {
     "name": "stderr",
     "output_type": "stream",
     "text": [
      "/tmp/ipykernel_25/2849121731.py:2: SettingWithCopyWarning: \n",
      "A value is trying to be set on a copy of a slice from a DataFrame.\n",
      "Try using .loc[row_indexer,col_indexer] = value instead\n",
      "\n",
      "See the caveats in the documentation: https://pandas.pydata.org/pandas-docs/stable/user_guide/indexing.html#returning-a-view-versus-a-copy\n",
      "  submission['content'] = content_list\n",
      "/tmp/ipykernel_25/2849121731.py:3: SettingWithCopyWarning: \n",
      "A value is trying to be set on a copy of a slice from a DataFrame.\n",
      "Try using .loc[row_indexer,col_indexer] = value instead\n",
      "\n",
      "See the caveats in the documentation: https://pandas.pydata.org/pandas-docs/stable/user_guide/indexing.html#returning-a-view-versus-a-copy\n",
      "  submission['wording'] = wording_list\n"
     ]
    },
    {
     "data": {
      "text/html": [
       "<div>\n",
       "<style scoped>\n",
       "    .dataframe tbody tr th:only-of-type {\n",
       "        vertical-align: middle;\n",
       "    }\n",
       "\n",
       "    .dataframe tbody tr th {\n",
       "        vertical-align: top;\n",
       "    }\n",
       "\n",
       "    .dataframe thead th {\n",
       "        text-align: right;\n",
       "    }\n",
       "</style>\n",
       "<table border=\"1\" class=\"dataframe\">\n",
       "  <thead>\n",
       "    <tr style=\"text-align: right;\">\n",
       "      <th></th>\n",
       "      <th>student_id</th>\n",
       "      <th>content</th>\n",
       "      <th>wording</th>\n",
       "    </tr>\n",
       "  </thead>\n",
       "  <tbody>\n",
       "    <tr>\n",
       "      <th>0</th>\n",
       "      <td>000000ffffff</td>\n",
       "      <td>0.040858</td>\n",
       "      <td>0.049885</td>\n",
       "    </tr>\n",
       "    <tr>\n",
       "      <th>1</th>\n",
       "      <td>222222cccccc</td>\n",
       "      <td>0.052598</td>\n",
       "      <td>0.039814</td>\n",
       "    </tr>\n",
       "    <tr>\n",
       "      <th>2</th>\n",
       "      <td>111111eeeeee</td>\n",
       "      <td>0.044912</td>\n",
       "      <td>0.051069</td>\n",
       "    </tr>\n",
       "    <tr>\n",
       "      <th>3</th>\n",
       "      <td>333333dddddd</td>\n",
       "      <td>0.053708</td>\n",
       "      <td>0.039713</td>\n",
       "    </tr>\n",
       "  </tbody>\n",
       "</table>\n",
       "</div>"
      ],
      "text/plain": [
       "     student_id   content   wording\n",
       "0  000000ffffff  0.040858  0.049885\n",
       "1  222222cccccc  0.052598  0.039814\n",
       "2  111111eeeeee  0.044912  0.051069\n",
       "3  333333dddddd  0.053708  0.039713"
      ]
     },
     "execution_count": 20,
     "metadata": {},
     "output_type": "execute_result"
    }
   ],
   "source": [
    "submission = test[['student_id']]\n",
    "submission['content'] = content_list\n",
    "submission['wording'] = wording_list\n",
    "\n",
    "submission.head()"
   ]
  },
  {
   "cell_type": "code",
   "execution_count": 21,
   "id": "c1cd9d32",
   "metadata": {
    "execution": {
     "iopub.execute_input": "2023-09-04T08:16:29.207954Z",
     "iopub.status.busy": "2023-09-04T08:16:29.206945Z",
     "iopub.status.idle": "2023-09-04T08:16:29.222051Z",
     "shell.execute_reply": "2023-09-04T08:16:29.221126Z"
    },
    "papermill": {
     "duration": 0.031488,
     "end_time": "2023-09-04T08:16:29.224680",
     "exception": false,
     "start_time": "2023-09-04T08:16:29.193192",
     "status": "completed"
    },
    "tags": []
   },
   "outputs": [],
   "source": [
    "submission.to_csv('submission.csv', index=False)"
   ]
  },
  {
   "cell_type": "code",
   "execution_count": null,
   "id": "b4fa85ff",
   "metadata": {
    "papermill": {
     "duration": 0.011088,
     "end_time": "2023-09-04T08:16:29.248006",
     "exception": false,
     "start_time": "2023-09-04T08:16:29.236918",
     "status": "completed"
    },
    "tags": []
   },
   "outputs": [],
   "source": []
  }
 ],
 "kernelspec": {
  "display_name": "Python 3",
  "language": "python",
  "name": "python3"
 },
 "language_info": {
  "codemirror_mode": {
   "name": "ipython",
   "version": 3
  },
  "file_extension": ".py",
  "mimetype": "text/x-python",
  "name": "python",
  "nbconvert_exporter": "python",
  "pygments_lexer": "ipython3",
  "version": "3.6.4"
 },
 "metadata": {
  "kernelspec": {
   "display_name": "Python 3",
   "language": "python",
   "name": "python3"
  },
  "language_info": {
   "codemirror_mode": {
    "name": "ipython",
    "version": 3
   },
   "file_extension": ".py",
   "mimetype": "text/x-python",
   "name": "python",
   "nbconvert_exporter": "python",
   "pygments_lexer": "ipython3",
   "version": "3.10.12"
  },
  "papermill": {
   "default_parameters": {},
   "duration": 1739.383869,
   "end_time": "2023-09-04T08:16:32.634065",
   "environment_variables": {},
   "exception": null,
   "input_path": "__notebook__.ipynb",
   "output_path": "__notebook__.ipynb",
   "parameters": {},
   "start_time": "2023-09-04T07:47:33.250196",
   "version": "2.4.0"
  }
 },
 "nbformat": 4,
 "nbformat_minor": 5
}
